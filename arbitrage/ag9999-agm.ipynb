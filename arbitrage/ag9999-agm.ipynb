{
 "cells": [
  {
   "cell_type": "code",
   "execution_count": null,
   "id": "a56410f5-471f-4803-91dd-77747e806f6a",
   "metadata": {},
   "outputs": [],
   "source": [
    "import akshare as ak\n",
    "import pandas as pd"
   ]
  },
  {
   "cell_type": "code",
   "execution_count": null,
   "id": "bb31d00c-98b7-459e-a658-aae17a8d3dd5",
   "metadata": {},
   "outputs": [],
   "source": [
    "ag9999 = ak.spot_hist_sge(symbol='Ag99.99')\n",
    "agm = ak.futures_hist_em(symbol=\"沪银主连\", period=\"daily\")"
   ]
  },
  {
   "cell_type": "code",
   "execution_count": null,
   "id": "56d01ea0-d1de-44c2-b2d8-9e1379842319",
   "metadata": {},
   "outputs": [],
   "source": [
    "df = pd.merge(ag9999, agm, left_on='date', right_on='时间', how='left')\n",
    "df = df.rename(columns = {'close': 'ag9999', '收盘': 'agm'})\n",
    "df = df[['date', 'ag9999', 'agm']]\n",
    "df['date'] = pd.to_datetime(df['date'])\n",
    "df['premium'] = df['ag9999'] - df['agm']\n",
    "print(df['premium'].abs().describe())\n",
    "print(df['premium'].abs().quantile(0.99))"
   ]
  },
  {
   "cell_type": "code",
   "execution_count": null,
   "id": "73563069-b4bd-40a1-ab3d-eab850d83f38",
   "metadata": {},
   "outputs": [],
   "source": [
    "def calculate_drawdown_time(row, val):\n",
    "     current_date = row['date']\n",
    "     current_premium_abs = abs(row['premium'])\n",
    "     if current_premium_abs <= val:\n",
    "         return pd.Timedelta(0)\n",
    "     subsequent_data = df[df['date'] > current_date]\n",
    "     drawdown_index = subsequent_data[subsequent_data['premium'].abs() <= val].first_valid_index()\n",
    "     if drawdown_index is not None:\n",
    "         drawdown_date = df.loc[drawdown_index, 'date']\n",
    "         return drawdown_date - current_date\n",
    "     return pd.NaT\n",
    "sell_point = 24\n",
    "\n",
    "df[f'down_{sell_point}'] = df.apply(calculate_drawdown_time, args=(sell_point,), axis=1)"
   ]
  },
  {
   "cell_type": "code",
   "execution_count": null,
   "id": "243234c5-580d-45fb-835e-65a8d6428bbd",
   "metadata": {},
   "outputs": [],
   "source": [
    "threshold = 110\n",
    "signal_df = df[(df['premium'] > threshold) | (df['premium'] < -1 * threshold)]\n",
    "print(df['premium'].abs().quantile(0.95))\n",
    "print(len(signal_df) * 100 / len(df))\n",
    "\n",
    "signal_df"
   ]
  },
  {
   "cell_type": "code",
   "execution_count": null,
   "id": "0345dc93-3f09-459d-b125-2ad196099a3d",
   "metadata": {},
   "outputs": [],
   "source": [
    "df[625:665]"
   ]
  },
  {
   "cell_type": "code",
   "execution_count": null,
   "id": "0dbe6169-9c29-4ff8-af99-ebd086fe8d95",
   "metadata": {},
   "outputs": [],
   "source": []
  }
 ],
 "metadata": {
  "kernelspec": {
   "display_name": "Python 3 (ipykernel)",
   "language": "python",
   "name": "python3"
  },
  "language_info": {
   "codemirror_mode": {
    "name": "ipython",
    "version": 3
   },
   "file_extension": ".py",
   "mimetype": "text/x-python",
   "name": "python",
   "nbconvert_exporter": "python",
   "pygments_lexer": "ipython3",
   "version": "3.11.8"
  }
 },
 "nbformat": 4,
 "nbformat_minor": 5
}
