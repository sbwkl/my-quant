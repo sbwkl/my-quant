{
 "cells": [
  {
   "cell_type": "code",
   "execution_count": null,
   "id": "a56410f5-471f-4803-91dd-77747e806f6a",
   "metadata": {},
   "outputs": [],
   "source": [
    "import akshare as ak\n",
    "import pandas as pd"
   ]
  },
  {
   "cell_type": "code",
   "execution_count": null,
   "id": "bb31d00c-98b7-459e-a658-aae17a8d3dd5",
   "metadata": {},
   "outputs": [],
   "source": [
    "au9999 = ak.spot_hist_sge(symbol='Au99.99')\n",
    "aum = ak.futures_hist_em(symbol=\"沪金主连\", period=\"daily\")"
   ]
  },
  {
   "cell_type": "code",
   "execution_count": null,
   "id": "56d01ea0-d1de-44c2-b2d8-9e1379842319",
   "metadata": {},
   "outputs": [],
   "source": [
    "df = pd.merge(au9999, aum, left_on='date', right_on='时间', how='left')\n",
    "df = df.rename(columns = {'close': 'au9999', '收盘': 'aum'})\n",
    "df = df[['date', 'au9999', 'aum']]\n",
    "df['date'] = pd.to_datetime(df['date'])\n",
    "df['premium'] = df['au9999'] - df['aum']\n",
    "df['premium'].abs().describe()"
   ]
  },
  {
   "cell_type": "code",
   "execution_count": null,
   "id": "73563069-b4bd-40a1-ab3d-eab850d83f38",
   "metadata": {},
   "outputs": [],
   "source": [
    "def calculate_drawdown_time(row, val):\n",
    "     current_date = row['date']\n",
    "     current_premium_abs = abs(row['premium'])\n",
    "     if current_premium_abs <= 2.5:\n",
    "         return pd.Timedelta(0)\n",
    "     subsequent_data = df[df['date'] > current_date]\n",
    "     drawdown_index = subsequent_data[subsequent_data['premium'].abs() <= val].first_valid_index()\n",
    "     if drawdown_index is not None:\n",
    "         drawdown_date = df.loc[drawdown_index, 'date']\n",
    "         return drawdown_date - current_date\n",
    "     return pd.NaT\n",
    "sell_point = 2.5\n",
    "\n",
    "df[f'down_{sell_point}'] = df.apply(calculate_drawdown_time, args=(sell_point,), axis=1)"
   ]
  },
  {
   "cell_type": "code",
   "execution_count": null,
   "id": "243234c5-580d-45fb-835e-65a8d6428bbd",
   "metadata": {},
   "outputs": [],
   "source": [
    "threshold = 5\n",
    "df[(df['premium'] > threshold) | (df['premium'] < -1 * threshold)]"
   ]
  }
 ],
 "metadata": {
  "kernelspec": {
   "display_name": "Python 3 (ipykernel)",
   "language": "python",
   "name": "python3"
  },
  "language_info": {
   "codemirror_mode": {
    "name": "ipython",
    "version": 3
   },
   "file_extension": ".py",
   "mimetype": "text/x-python",
   "name": "python",
   "nbconvert_exporter": "python",
   "pygments_lexer": "ipython3",
   "version": "3.11.8"
  }
 },
 "nbformat": 4,
 "nbformat_minor": 5
}
