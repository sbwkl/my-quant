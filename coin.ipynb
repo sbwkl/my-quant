{
 "cells": [
  {
   "cell_type": "code",
   "execution_count": null,
   "id": "17bba331-7165-4b14-9683-91c1dae3dd0e",
   "metadata": {},
   "outputs": [],
   "source": [
    "from binance.spot import Spot as Client\n",
    "from binance.websocket.spot.websocket_stream import SpotWebsocketStreamClient\n",
    "import time\n",
    "import base64\n",
    "import hashlib\n",
    "import hmac\n",
    "import pandas as pd\n",
    "from datetime import datetime\n",
    "import matplotlib.pyplot as plt"
   ]
  },
  {
   "cell_type": "code",
   "execution_count": null,
   "id": "01074981-407d-4d97-b70d-a44084a1d7d7",
   "metadata": {},
   "outputs": [],
   "source": [
    "proxies = { 'https': 'http://127.0.0.1:1080', 'http': 'http://127.0.0.1:1080' }\n",
    "client= Client(proxies=proxies, show_limit_usage=True)"
   ]
  },
  {
   "cell_type": "code",
   "execution_count": null,
   "id": "4edc856d-19b1-423b-ad7a-430fc9d15734",
   "metadata": {},
   "outputs": [],
   "source": [
    "res = client.klines('BTCUSDT', interval='1m', limit=720)"
   ]
  },
  {
   "cell_type": "code",
   "execution_count": null,
   "id": "2e263600-aaf3-4a88-8857-c960099ad26a",
   "metadata": {},
   "outputs": [],
   "source": [
    "ba_df = pd.DataFrame(res['data'], columns=['date_open', 'open', 'high', 'low', 'close', 'vol', 'date_close', 'asset_vol', 'count', 'base_vol', 'quote_vol', 'ignore'])\n",
    "\n",
    "ba_df['date_open'] = pd.to_datetime(ba_df['date_open'], unit='ms')\n",
    "ba_df['date_close'] = pd.to_datetime(ba_df['date_close'], unit='ms')"
   ]
  },
  {
   "cell_type": "code",
   "execution_count": null,
   "id": "ccb0bfa1-ede6-492c-8194-e6dfe0a11f9d",
   "metadata": {},
   "outputs": [],
   "source": [
    "def message_handler(_, message):\n",
    "    print(message)\n",
    "\n",
    "my_client = SpotWebsocketStreamClient(on_message=message_handler, proxies=proxies, timeout=10)\n",
    "\n",
    "# Subscribe to a single symbol stream\n",
    "# my_client.agg_trade(symbol=\"bnbusdt\")\n",
    "my_client.kline(symbol='btcusdt', interval='1m')\n",
    "time.sleep(5 * 60)\n",
    "logging.info(\"closing ws connection\")\n",
    "my_client.stop()"
   ]
  },
  {
   "cell_type": "code",
   "execution_count": null,
   "id": "e840b227-a34c-462e-8a17-1aa05872028e",
   "metadata": {},
   "outputs": [],
   "source": [
    "import requests\n",
    "import json\n",
    "\n",
    "url = \"https://api.kraken.com/0/private/GetWebSocketsToken\"\n",
    "\n",
    "\n",
    "api_key = '3kZXu4AX+c+J2BALKrEo0RvWugnBu7xgSN8/Jz6ezP3RMPx0ikIE4pnd'\n",
    "api_secret = '+jHEC+BvgLCQJzJ9yIFHW8eWdAPrcDIBc1s/sBG5hVWBRakEnBGnW4/tTC4xMfb0biIlqLB9nTNwRMwgpbPbGA=='\n",
    "\n",
    "api_path = '/0/private/GetWebSocketsToken'\n",
    "api_nonce = str(int(time.time()*1000))\n",
    "api_post = 'nonce=' + api_nonce\n",
    "\n",
    "# Cryptographic hash algorithms\n",
    "api_sha256 = hashlib.sha256(api_nonce.encode('utf-8') + api_post.encode('utf-8'))\n",
    "api_hmac = hmac.new(base64.b64decode(api_secret), api_path.encode('utf-8') + api_sha256.digest(), hashlib.sha512)\n",
    "\n",
    "# Encode signature into base64 format used in API-Sign value\n",
    "api_signature = base64.b64encode(api_hmac.digest())\n",
    "\n",
    "headers = {\n",
    "  'Content-Type': 'application/json',\n",
    "  'Accept': 'application/json',\n",
    "  'API-Key': api_key,\n",
    "  'API-Sign': api_signature\n",
    "}\n",
    "\n",
    "payload = json.dumps({\n",
    "  \"nonce\": api_nonce\n",
    "})\n",
    "\n",
    "response = requests.request(\"POST\", url, headers=headers, data=payload, proxies=proxies)\n",
    "\n",
    "print(response.text)"
   ]
  },
  {
   "cell_type": "code",
   "execution_count": null,
   "id": "5c8f9a91-917b-482e-93b9-d1fa1b650551",
   "metadata": {},
   "outputs": [],
   "source": [
    "import requests\n",
    "\n",
    "url = \"https://api.kraken.com/0/public/OHLC?pair=btcusd&interval=1\"\n",
    "\n",
    "payload = {}\n",
    "headers = {\n",
    "  'Accept': 'application/json'\n",
    "}\n",
    "\n",
    "response = requests.request(\"GET\", url, headers=headers, data=payload, proxies=proxies)"
   ]
  },
  {
   "cell_type": "code",
   "execution_count": null,
   "id": "b5095cb9-ba88-423b-9376-4567f486b725",
   "metadata": {},
   "outputs": [],
   "source": [
    "kk_df = pd.DataFrame(response.json()['result']['XXBTZUSD'], columns=['date', 'open', 'high', 'low', 'close', 'vwap', 'vol', 'count'])\n",
    "kk_df['date'] = pd.to_datetime(kk_df['date'], unit='s')"
   ]
  },
  {
   "cell_type": "code",
   "execution_count": null,
   "id": "62384673-7ec2-4835-9797-7e284d0845a5",
   "metadata": {},
   "outputs": [],
   "source": [
    "for col in ['open', 'high', 'low', 'close']:\n",
    "    ba_df[col] = ba_df[col].astype(float)\n",
    "    kk_df[col] = kk_df[col].astype(float)\n",
    "\n",
    "df = ba_df.merge(kk_df, left_on='date_open', right_on='date', how='left', suffixes=('.ba', '.kk'))\n",
    "df['diff'] = df['close.ba'] - df['close.kk']\n",
    "\n",
    "diff_df = df[['date', 'diff']]\n",
    "\n",
    "df[['date_open', 'close.ba', 'date', 'close.kk', 'diff']].tail(10)"
   ]
  },
  {
   "cell_type": "code",
   "execution_count": null,
   "id": "6a4bd4e8-4a22-4a7f-95d2-f0417ada8740",
   "metadata": {},
   "outputs": [],
   "source": [
    "diff_df['diff'].abs().describe()\n",
    "abnormal = diff_df['diff'].abs().quantile(0.99)\n",
    "\n",
    "diff_df[diff_df['diff'].abs() > abnormal]"
   ]
  },
  {
   "cell_type": "code",
   "execution_count": null,
   "id": "dc3301be-1e51-4781-8cff-ae546e8d6c76",
   "metadata": {},
   "outputs": [],
   "source": [
    "plt.rcParams['figure.dpi'] = 300\n",
    "plt.figure(figsize=(10, 6))\n",
    "plt.plot(diff_df['date'], diff_df['diff'], label='diff')\n",
    "\n",
    "\n",
    "plt.xticks(rotation=45)\n",
    "\n",
    "plt.legend()\n",
    "plt.grid(True)\n",
    "plt.show()"
   ]
  },
  {
   "cell_type": "code",
   "execution_count": null,
   "id": "7c584d8d-1a17-4409-8ea9-e6415b405611",
   "metadata": {},
   "outputs": [],
   "source": []
  }
 ],
 "metadata": {
  "kernelspec": {
   "display_name": "Python 3 (ipykernel)",
   "language": "python",
   "name": "python3"
  },
  "language_info": {
   "codemirror_mode": {
    "name": "ipython",
    "version": 3
   },
   "file_extension": ".py",
   "mimetype": "text/x-python",
   "name": "python",
   "nbconvert_exporter": "python",
   "pygments_lexer": "ipython3",
   "version": "3.11.8"
  }
 },
 "nbformat": 4,
 "nbformat_minor": 5
}
